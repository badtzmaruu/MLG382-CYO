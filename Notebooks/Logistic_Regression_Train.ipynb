{
 "cells": [
  {
   "cell_type": "code",
   "execution_count": 1,
   "id": "fd1060bf",
   "metadata": {},
   "outputs": [
    {
     "name": "stderr",
     "output_type": "stream",
     "text": [
      "e:\\oosun\\Documents\\Lib\\site-packages\\sklearn\\linear_model\\_logistic.py:1247: FutureWarning: 'multi_class' was deprecated in version 1.5 and will be removed in 1.7. From then on, it will always use 'multinomial'. Leave it to its default value to avoid this warning.\n",
      "  warnings.warn(\n"
     ]
    },
    {
     "name": "stdout",
     "output_type": "stream",
     "text": [
      "Accuracy: 0.926\n",
      "\n",
      "Classification Report:\n",
      "               precision    recall  f1-score   support\n",
      "\n",
      "     No Rain       0.95      0.96      0.96       437\n",
      "        Rain       0.72      0.68      0.70        63\n",
      "\n",
      "    accuracy                           0.93       500\n",
      "   macro avg       0.84      0.82      0.83       500\n",
      "weighted avg       0.92      0.93      0.93       500\n",
      "\n"
     ]
    },
    {
     "data": {
      "image/png": "[encoded data removed]",
      "text/plain": [
       "<Figure size 800x600 with 2 Axes>"
      ]
     },
     "metadata": {},
     "output_type": "display_data"
    },
    {
     "name": "stdout",
     "output_type": "stream",
     "text": [
      "Predicted Grade: rain ,for given weather input\n"
     ]
    },
    {
     "name": "stderr",
     "output_type": "stream",
     "text": [
      "C:\\Users\\oosun\\AppData\\Local\\Temp\\ipykernel_19144\\2383272627.py:82: FutureWarning: errors='ignore' is deprecated and will raise in a future version. Use to_numeric without passing `errors` and catch exceptions explicitly instead\n",
      "  df_input = df_input.apply(pd.to_numeric, errors='ignore')\n",
      "e:\\oosun\\Documents\\Lib\\site-packages\\sklearn\\utils\\validation.py:2732: UserWarning: X has feature names, but LogisticRegression was fitted without feature names\n",
      "  warnings.warn(\n"
     ]
    }
   ],
   "source": [
    "import pandas as pd\n",
    "import matplotlib.pyplot as plt\n",
    "import seaborn as sn\n",
    "from sklearn.preprocessing import StandardScaler\n",
    "from sklearn.linear_model import LogisticRegression\n",
    "from sklearn.metrics import classification_report, accuracy_score, confusion_matrix\n",
    "import seaborn as sns\n",
    "import matplotlib.pyplot as plt\n",
    "import pickle\n",
    "from sklearn.model_selection import GridSearchCV\n",
    "\n",
    "#Step 1: Import CSVs\n",
    "df_train = pd.read_csv('../Data/train_data.csv', delimiter=\",\") \n",
    "df_test = pd.read_csv('../Data/test_data.csv', delimiter=\",\")\n",
    "\n",
    "#Step 2: Separate features and target\n",
    "X_train = df_train.drop(columns = [\"Rain\"])\n",
    "y_train = df_train['Rain']\n",
    "\n",
    "X_test = df_test.drop(columns = [\"Rain\"])\n",
    "y_test = df_test['Rain']\n",
    "\n",
    "#Step 3: Feature sclaing\n",
    "scaler = StandardScaler()  \n",
    "X_train_scaled = scaler.fit_transform(X_train)\n",
    "X_test_scaled = scaler.transform(X_test)\n",
    "\n",
    "#Step 4: Tune and train Logistic Regression model using GridSearchCV\n",
    "#Define the model\n",
    "ln = LogisticRegression(solver='lbfgs', max_iter=500)\n",
    "param_grid = {\n",
    "    'C': [0.01, 0.1, 1, 10, 100],   \n",
    "    'penalty': ['l2'],              \n",
    "    'max_iter': [100, 200, 500]     \n",
    "}\n",
    "base_model = LogisticRegression(solver='lbfgs', multi_class='auto')\n",
    "grid_search = GridSearchCV(base_model, param_grid, cv=5, scoring='accuracy', n_jobs=-1)\n",
    "grid_search.fit(X_train_scaled, y_train)\n",
    "\n",
    "# Use best model found\n",
    "ln = grid_search.best_estimator_\n",
    "\n",
    "#Step 5: Save the model as pkl file in artifacts   \n",
    "with open(\"../Artifacts/regression_model.pkl\", \"wb\") as file:\n",
    "    pickle.dump(ln, file)\n",
    "with open(\"../Artifacts/regression_scaler.pkl\", \"wb\") as file:\n",
    "    pickle.dump(scaler, file)\n",
    "\n",
    "#Setp 6: predictions\n",
    "predictions = ln.predict(X_test_scaled)\n",
    "\n",
    "#Step 7: Evaluation\n",
    "print(\"Accuracy:\", accuracy_score(y_test, predictions))\n",
    "print(\"\\nClassification Report:\\n\", classification_report(y_test, predictions, target_names=[\"No Rain\", \"Rain\"], zero_division=0))\n",
    "\n",
    "#Confusion matrix\n",
    "plt.figure(figsize=(8,6))\n",
    "sns.heatmap(confusion_matrix(y_test, predictions), annot=True, fmt='d', cmap='Blues')\n",
    "plt.title('Confusion Matrix')\n",
    "plt.xlabel('Predicted')\n",
    "plt.ylabel('Actual')\n",
    "plt.tight_layout()\n",
    "plt.show()\n",
    "\n",
    "#Step 8: Save predictions to CSV\n",
    "comparison_df = X_test.copy()\n",
    "comparison_df[\"Actual Rain\"] = y_test.values\n",
    "comparison_df[\"Predicted Rain\"] = predictions\n",
    "comparison_df.to_csv(\"../Artifacts/regression_prediction.csv\", index=False)  \n",
    "\n",
    "#Prediction function\n",
    "def predict_weather(input_string):\n",
    "    columns = [\"Temperature\", \"Humidity\", \"Wind_Speed\", \"Cloud_Cover\", \"Pressure\"]\n",
    "\n",
    "    # Convert input string into a list\n",
    "    input_data = input_string.split(\",\")\n",
    "\n",
    "    # Create DataFrame from input\n",
    "    df_input = pd.DataFrame([input_data], columns=columns)\n",
    "\n",
    "    # Convert numerical values from strings to floats\n",
    "    df_input = df_input.apply(pd.to_numeric, errors='ignore')  \n",
    "\n",
    "    # Predict using the loaded model\n",
    "    prediction = ln.predict(df_input)\n",
    "    \n",
    "    # Rain map\n",
    "    rain_map = {0: \"no rain\", 1: \"rain\"}\n",
    "    \n",
    "    predicted_rain = rain_map[prediction[0]]\n",
    "\n",
    "    return predicted_rain\n",
    "\n",
    "#Example testing input from the csv file\n",
    "weather_input = \"20.5,65,13.2,60,1012\"\n",
    "\n",
    "#Print predicted grade\n",
    "print(f\"Predicted Grade: {predict_weather(weather_input)} ,for given weather input\")\n",
    "\n"
   ]
  }
 ],
 "metadata": {
  "kernelspec": {
   "display_name": "base",
   "language": "python",
   "name": "python3"
  },
  "language_info": {
   "codemirror_mode": {
    "name": "ipython",
    "version": 3
   },
   "file_extension": ".py",
   "mimetype": "text/x-python",
   "name": "python",
   "nbconvert_exporter": "python",
   "pygments_lexer": "ipython3",
   "version": "3.12.7"
  }
 },
 "nbformat": 4,
 "nbformat_minor": 5
}
