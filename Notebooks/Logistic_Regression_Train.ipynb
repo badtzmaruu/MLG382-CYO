{
 "cells": [
  {
   "cell_type": "code",
   "execution_count": 2,
   "id": "fd1060bf",
   "metadata": {},
   "outputs": [
    {
     "name": "stdout",
     "output_type": "stream",
     "text": [
      "Accuracy: 0.926\n",
      "\n",
      "Classification Report:\n",
      "               precision    recall  f1-score   support\n",
      "\n",
      "           0       0.95      0.96      0.96       437\n",
      "           1       0.72      0.68      0.70        63\n",
      "\n",
      "    accuracy                           0.93       500\n",
      "   macro avg       0.84      0.82      0.83       500\n",
      "weighted avg       0.92      0.93      0.93       500\n",
      "\n"
     ]
    },
    {
     "name": "stderr",
     "output_type": "stream",
     "text": [
      "e:\\oosun\\Documents\\Lib\\site-packages\\sklearn\\linear_model\\_logistic.py:1247: FutureWarning: 'multi_class' was deprecated in version 1.5 and will be removed in 1.7. From then on, it will always use 'multinomial'. Leave it to its default value to avoid this warning.\n",
      "  warnings.warn(\n"
     ]
    },
    {
     "data": {
      "image/png": "[encoded data removed]",
      "text/plain": [
       "<Figure size 600x400 with 2 Axes>"
      ]
     },
     "metadata": {},
     "output_type": "display_data"
    }
   ],
   "source": [
    "import pandas as pd\n",
    "import matplotlib.pyplot as plt\n",
    "import seaborn as sn\n",
    "from sklearn.preprocessing import StandardScaler\n",
    "from sklearn.linear_model import LogisticRegression\n",
    "from sklearn.metrics import classification_report, accuracy_score, confusion_matrix\n",
    "import seaborn as sns\n",
    "import matplotlib.pyplot as plt\n",
    "import pickle\n",
    "from sklearn.model_selection import GridSearchCV\n",
    "\n",
    "#Step 1: Import CSVs\n",
    "df_train = pd.read_csv('../Data/train_data.csv', delimiter=\",\") \n",
    "df_test = pd.read_csv('../Data/test_data.csv', delimiter=\",\")\n",
    "\n",
    "#Step 2: Separate features and target\n",
    "X_train = df_train.drop(columns = [\"Rain\"])\n",
    "y_train = df_train['Rain']\n",
    "\n",
    "X_test = df_test.drop(columns = [\"Rain\"])\n",
    "y_test = df_test['Rain']\n",
    "\n",
    "#Step 3: Feature sclaing\n",
    "scaler = StandardScaler()  \n",
    "X_train_scaled = scaler.fit_transform(X_train)\n",
    "X_test_scaled = scaler.transform(X_test)\n",
    "\n",
    "#Step 4: Tune and train Logistic Regression model using GridSearchCV\n",
    "#Define the model\n",
    "ln = LogisticRegression(solver='lbfgs', max_iter=500)\n",
    "param_grid = {\n",
    "    'C': [0.01, 0.1, 1, 10, 100],    # Regularization strength\n",
    "    'penalty': ['l2'],               # Using L2 penalty (default for lbfgs)\n",
    "    'max_iter': [100, 200, 500]      # Try increasing iterations in case it doesn't converge\n",
    "}\n",
    "base_model = LogisticRegression(solver='lbfgs', multi_class='auto')\n",
    "grid_search = GridSearchCV(base_model, param_grid, cv=5, scoring='accuracy', n_jobs=-1)\n",
    "grid_search.fit(X_train_scaled, y_train)\n",
    "\n",
    "# Use best model found\n",
    "ln = grid_search.best_estimator_\n",
    "\n",
    "#Setp 5: predictions\n",
    "predictions = ln.predict(X_test_scaled)\n",
    "predictions  #Returns wether it will rain or not\n",
    "\n",
    "#Step 6: Evaluation\n",
    "print(\"Accuracy:\", accuracy_score(y_test, predictions))\n",
    "print(\"\\nClassification Report:\\n\", classification_report(y_test, predictions))\n",
    "\n",
    "#Confusion matrix\n",
    "plt.figure(figsize=(6,4))\n",
    "sns.heatmap(confusion_matrix(y_test, predictions), annot=True, fmt='d', cmap='Blues')\n",
    "plt.title('Confusion Matrix')\n",
    "plt.xlabel('Predicted')\n",
    "plt.ylabel('Actual')\n",
    "plt.tight_layout()\n",
    "plt.show()\n",
    "\n",
    "#Step 7: Save the model as pkl file in artifacts   \n",
    "with open(\"../Artifacts/regression_model.pkl\", \"wb\") as file:\n",
    "    pickle.dump(ln, file)\n",
    "with open(\"../Artifacts/regression_scaler.pkl\", \"wb\") as file:\n",
    "    pickle.dump(scaler, file)\n",
    "\n",
    "#Step 8: Save predictions to CSV\n",
    "comparison_df = X_test.copy()\n",
    "comparison_df[\"Actual Rain\"] = y_test.values\n",
    "comparison_df[\"Predicted Rain\"] = predictions\n",
    "\n",
    "comparison_df.to_csv(\"../Artifacts/regression_prediction.csv\", index=False)  \n"
   ]
  }
 ],
 "metadata": {
  "kernelspec": {
   "display_name": "Python 3",
   "language": "python",
   "name": "python3"
  },
  "language_info": {
   "codemirror_mode": {
    "name": "ipython",
    "version": 3
   },
   "file_extension": ".py",
   "mimetype": "text/x-python",
   "name": "python",
   "nbconvert_exporter": "python",
   "pygments_lexer": "ipython3",
   "version": "3.13.3"
  }
 },
 "nbformat": 4,
 "nbformat_minor": 5
}
