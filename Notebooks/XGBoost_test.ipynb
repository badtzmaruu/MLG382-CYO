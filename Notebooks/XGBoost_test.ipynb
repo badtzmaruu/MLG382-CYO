{
 "cells": [
  {
   "cell_type": "code",
   "execution_count": null,
   "id": "5a40542d",
   "metadata": {},
   "outputs": [
    {
     "name": "stdout",
     "output_type": "stream",
     "text": [
      "Accuracy:  0.996\n",
      "\n",
      "Classification Report:\n",
      "               precision    recall  f1-score   support\n",
      "\n",
      "     no rain       1.00      1.00      1.00       437\n",
      "        rain       0.97      1.00      0.98        63\n",
      "\n",
      "    accuracy                           1.00       500\n",
      "   macro avg       0.98      1.00      0.99       500\n",
      "weighted avg       1.00      1.00      1.00       500\n",
      "\n"
     ]
    },
    {
     "name": "stderr",
     "output_type": "stream",
     "text": [
      "C:\\Users\\oosun\\AppData\\Local\\Temp\\ipykernel_14440\\1495116193.py:35: FutureWarning: errors='ignore' is deprecated and will raise in a future version. Use to_numeric without passing `errors` and catch exceptions explicitly instead\n",
      "  df_input = df_input.apply(pd.to_numeric, errors='ignore')\n"
     ]
    },
    {
     "ename": "IndexError",
     "evalue": "invalid index to scalar variable.",
     "output_type": "error",
     "traceback": [
      "\u001b[1;31m---------------------------------------------------------------------------\u001b[0m",
      "\u001b[1;31mIndexError\u001b[0m                                Traceback (most recent call last)",
      "Cell \u001b[1;32mIn[1], line 54\u001b[0m\n\u001b[0;32m     51\u001b[0m weather_input \u001b[38;5;241m=\u001b[39m \u001b[38;5;124m\"\u001b[39m\u001b[38;5;124m20.5,65,13.2,60,1012\u001b[39m\u001b[38;5;124m\"\u001b[39m\n\u001b[0;32m     53\u001b[0m \u001b[38;5;66;03m#Print predicted grade\u001b[39;00m\n\u001b[1;32m---> 54\u001b[0m \u001b[38;5;28mprint\u001b[39m(\u001b[38;5;124mf\u001b[39m\u001b[38;5;124m\"\u001b[39m\u001b[38;5;124mPredicted Grade: \u001b[39m\u001b[38;5;132;01m{\u001b[39;00mpredict_weather(weather_input)\u001b[38;5;132;01m}\u001b[39;00m\u001b[38;5;124m ,for given weather input\u001b[39m\u001b[38;5;124m\"\u001b[39m)\n\u001b[0;32m     56\u001b[0m \u001b[38;5;66;03m#Confusion matrix\u001b[39;00m\n\u001b[0;32m     57\u001b[0m plt\u001b[38;5;241m.\u001b[39mfigure(figsize\u001b[38;5;241m=\u001b[39m(\u001b[38;5;241m6\u001b[39m, \u001b[38;5;241m4\u001b[39m))\n",
      "Cell \u001b[1;32mIn[1], line 42\u001b[0m, in \u001b[0;36mpredict_weather\u001b[1;34m(input_string)\u001b[0m\n\u001b[0;32m     40\u001b[0m \u001b[38;5;66;03m# Rain map\u001b[39;00m\n\u001b[0;32m     41\u001b[0m rain_map \u001b[38;5;241m=\u001b[39m {\u001b[38;5;241m0\u001b[39m: \u001b[38;5;124m\"\u001b[39m\u001b[38;5;124mno rain\u001b[39m\u001b[38;5;124m\"\u001b[39m, \u001b[38;5;241m1\u001b[39m: \u001b[38;5;124m\"\u001b[39m\u001b[38;5;124mrain\u001b[39m\u001b[38;5;124m\"\u001b[39m}\n\u001b[1;32m---> 42\u001b[0m predicted_rain \u001b[38;5;241m=\u001b[39m rain_map[prediction[\u001b[38;5;241m0\u001b[39m]]\n\u001b[0;32m     44\u001b[0m \u001b[38;5;28;01mreturn\u001b[39;00m predicted_rain\n",
      "\u001b[1;31mIndexError\u001b[0m: invalid index to scalar variable."
     ]
    }
   ],
   "source": [
    "import pandas as pd\n",
    "import pickle\n",
    "from sklearn.metrics import classification_report, accuracy_score, confusion_matrix\n",
    "import seaborn as sns\n",
    "import matplotlib.pyplot as plt\n",
    "\n",
    "#Step 1: Loading the saved model and scaler from pkl files\n",
    "with open(\"../Artifacts/xgboost_model.pkl\", \"rb\") as file:\n",
    "    loaded_model = pickle.load(file)\n",
    "\n",
    "#Step 2: Loading the test dataset\n",
    "df_test = pd.read_csv('../Data/test_data.csv', delimiter=\",\")\n",
    "\n",
    "#Step 3: Preparing the test data\n",
    "X_test = df_test.drop(columns=[\"Rain\"])\n",
    "y_test = df_test[\"Rain\"]\n",
    "\n",
    "#Step 4: Make Predictions\n",
    "predictions = loaded_model.predict(X_test)\n",
    "\n",
    "#Step 5: Prediction function\n",
    "def predict_weather(input_string):\n",
    "    columns = [\"Temperature\", \"Humidity\", \"Wind_Speed\", \"Cloud_Cover\", \"Pressure\"]\n",
    "\n",
    "    # Convert input string into a list\n",
    "    input_data = input_string.split(\",\")\n",
    "\n",
    "    # Create DataFrame from input\n",
    "    df_input = pd.DataFrame([input_data], columns=columns)\n",
    "\n",
    "    # Convert numerical values from strings to floats\n",
    "    df_input = df_input.apply(pd.to_numeric, errors='ignore')  \n",
    "\n",
    "    # Predict using the loaded model\n",
    "    prediction = loaded_model.predict(df_input)[0]\n",
    "    \n",
    "    # Rain map\n",
    "    rain_map = {0: \"no rain\", 1: \"rain\"}\n",
    "    \n",
    "    predicted_rain = rain_map[prediction]\n",
    "\n",
    "    return predicted_rain\n",
    "\n",
    "#Step 6: Evaluate predictions\n",
    "print(\"Accuracy: \", accuracy_score(y_test, predictions))\n",
    "print(\"\\nClassification Report:\\n\", classification_report(y_test, predictions, target_names=[\"no rain\", \"rain\"]))\n",
    "\n",
    "#Example testing input from the csv file\n",
    "weather_input = \"20.5,65,13.2,60,1012\"\n",
    "\n",
    "#Print predicted grade\n",
    "print(f\"Predicted Grade: {predict_weather(weather_input)} ,for given weather input\")\n",
    "\n",
    "#Confusion matrix\n",
    "plt.figure(figsize=(6, 4))\n",
    "sns.heatmap(confusion_matrix(y_test, predictions), annot=True, fmt='d', cmap='Blues')\n",
    "plt.title('Confusion Matrix')\n",
    "plt.xlabel('Predicted')\n",
    "plt.ylabel('Actual')\n",
    "plt.tight_layout()\n",
    "plt.show()"
   ]
  }
 ],
 "metadata": {
  "kernelspec": {
   "display_name": "base",
   "language": "python",
   "name": "python3"
  },
  "language_info": {
   "codemirror_mode": {
    "name": "ipython",
    "version": 3
   },
   "file_extension": ".py",
   "mimetype": "text/x-python",
   "name": "python",
   "nbconvert_exporter": "python",
   "pygments_lexer": "ipython3",
   "version": "3.12.7"
  }
 },
 "nbformat": 4,
 "nbformat_minor": 5
}
