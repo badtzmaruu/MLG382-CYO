{
 "cells": [
  {
   "cell_type": "code",
   "execution_count": 1,
   "id": "cae5accd",
   "metadata": {},
   "outputs": [
    {
     "name": "stdout",
     "output_type": "stream",
     "text": [
      "Accuracy: 1.0\n",
      "\n",
      "Classification Report:\n",
      "               precision    recall  f1-score   support\n",
      "\n",
      "     no rain       1.00      1.00      1.00       437\n",
      "        rain       1.00      1.00      1.00        63\n",
      "\n",
      "    accuracy                           1.00       500\n",
      "   macro avg       1.00      1.00      1.00       500\n",
      "weighted avg       1.00      1.00      1.00       500\n",
      "\n",
      "Predicted Weather Outcome: no rain ,for given weather input\n"
     ]
    },
    {
     "name": "stderr",
     "output_type": "stream",
     "text": [
      "C:\\Users\\oosun\\AppData\\Local\\Temp\\ipykernel_19656\\1312413857.py:32: FutureWarning: errors='ignore' is deprecated and will raise in a future version. Use to_numeric without passing `errors` and catch exceptions explicitly instead\n",
      "  df_input = df_input.apply(pd.to_numeric, errors='ignore')\n"
     ]
    },
    {
     "data": {
      "image/png": "[encoded data removed]",
      "text/plain": [
       "<Figure size 600x400 with 2 Axes>"
      ]
     },
     "metadata": {},
     "output_type": "display_data"
    }
   ],
   "source": [
    "import pandas as pd\n",
    "import pickle\n",
    "from sklearn.metrics import classification_report, accuracy_score, confusion_matrix\n",
    "import seaborn as sns\n",
    "import matplotlib.pyplot as plt\n",
    "\n",
    "#Step 1: Loading the saved model and scaler from pkl files\n",
    "with open(\"../Artifacts/randomforest_model.pkl\", \"rb\") as file:\n",
    "    loaded_model = pickle.load(file)\n",
    "\n",
    "#Step 2: Loading the test dataset\n",
    "df_test = pd.read_csv('../Data/test_data.csv', delimiter=\",\")\n",
    "\n",
    "#Step 3: Preparing the test data\n",
    "X_test = df_test.drop(columns=[\"Rain\"])\n",
    "y_test = df_test['Rain']\n",
    "\n",
    "#Step 5: Make predictions of entire dataset \n",
    "predictions = loaded_model.predict(X_test)\n",
    "\n",
    "#Prediction function for the given input test\n",
    "def predict_weather(input_string):\n",
    "    columns = [\"Temperature\", \"Humidity\", \"Wind_Speed\", \"Cloud_Cover\", \"Pressure\"]\n",
    "\n",
    "    # Convert input string into a list\n",
    "    input_data = input_string.split(\",\")\n",
    "\n",
    "    # Convert to DataFrame\n",
    "    df_input = pd.DataFrame([input_data], columns=columns)\n",
    "\n",
    "    # Convert numerical values from strings to floats\n",
    "    df_input = df_input.apply(pd.to_numeric, errors='ignore') \n",
    "\n",
    "    # Predict using the loaded model\n",
    "    prediction = loaded_model.predict(df_input)\n",
    "\n",
    "    # Rain map\n",
    "    rain_map = {0: \"no rain\", 1: \"rain\"}\n",
    "    predicted_rain = rain_map[prediction[0]]\n",
    "\n",
    "    return predicted_rain\n",
    "\n",
    "#Step 6: Evaluate predictions\n",
    "print(\"Accuracy:\", accuracy_score(y_test, predictions))\n",
    "print(\"\\nClassification Report:\\n\", classification_report(y_test, predictions, target_names=[\"no rain\", \"rain\"]))\n",
    "\n",
    "#Example testing input from the csv file\n",
    "weather_input = \"20.5,65,13.2,60,1012\" \n",
    "\n",
    "#Print predicted grade\n",
    "print(f\"Predicted Weather Outcome: {predict_weather(weather_input)} ,for given weather input\")\n",
    "\n",
    "#Confusion matrix\n",
    "plt.figure(figsize=(6, 4))\n",
    "sns.heatmap(confusion_matrix(y_test, predictions), annot=True, fmt='d', cmap='Blues')\n",
    "plt.title('Confusion Matrix')\n",
    "plt.xlabel('Predicted')\n",
    "plt.ylabel('Actual')\n",
    "plt.tight_layout()\n",
    "plt.show()"
   ]
  }
 ],
 "metadata": {
  "kernelspec": {
   "display_name": "Python 3",
   "language": "python",
   "name": "python3"
  },
  "language_info": {
   "codemirror_mode": {
    "name": "ipython",
    "version": 3
   },
   "file_extension": ".py",
   "mimetype": "text/x-python",
   "name": "python",
   "nbconvert_exporter": "python",
   "pygments_lexer": "ipython3",
   "version": "3.13.3"
  }
 },
 "nbformat": 4,
 "nbformat_minor": 5
}
