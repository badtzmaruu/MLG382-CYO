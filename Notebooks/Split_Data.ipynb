{
 "cells": [
  {
   "cell_type": "code",
   "execution_count": 1,
   "id": "23570ed6",
   "metadata": {},
   "outputs": [
    {
     "name": "stdout",
     "output_type": "stream",
     "text": [
      "\n",
      "Rain Distribution in Training Set:\n",
      "      Count  Percentage (%)\n",
      "Rain                       \n",
      "0      1749           87.45\n",
      "1       251           12.55\n"
     ]
    }
   ],
   "source": [
    "import os\n",
    "import pandas as pd\n",
    "from sklearn.model_selection import train_test_split\n",
    "\n",
    "#Load dataset\n",
    "data = pd.read_csv('../Data/weather_cleaned.csv', delimiter=\",\")\n",
    "\n",
    "#Split into train/test sets (80/20) with stratified sampling\n",
    "train_data, test_data = train_test_split(data, test_size=0.2,random_state=42, stratify=data[\"Rain\"]\n",
    ")\n",
    "\n",
    "#Save to CSV files inside the existing Data folder\n",
    "output_path = \"../Data\"\n",
    "os.makedirs(output_path, exist_ok=True)\n",
    "\n",
    "train_data.to_csv(os.path.join(output_path, \"train_data.csv\"), index=False)\n",
    "test_data.to_csv(os.path.join(output_path, \"test_data.csv\"), index=False)\n",
    "\n",
    "#Print class distribution info\n",
    "print(\"\\nRain Distribution in Training Set:\")\n",
    "counts = train_data[\"Rain\"].value_counts().sort_index()\n",
    "percentages = (counts / len(train_data) * 100).round(2)\n",
    "distribution_df = pd.DataFrame({\n",
    "    \"Count\": counts,\n",
    "    \"Percentage (%)\": percentages\n",
    "})\n",
    "\n",
    "print(distribution_df)"
   ]
  }
 ],
 "metadata": {
  "kernelspec": {
   "display_name": "base",
   "language": "python",
   "name": "python3"
  },
  "language_info": {
   "codemirror_mode": {
    "name": "ipython",
    "version": 3
   },
   "file_extension": ".py",
   "mimetype": "text/x-python",
   "name": "python",
   "nbconvert_exporter": "python",
   "pygments_lexer": "ipython3",
   "version": "3.12.7"
  }
 },
 "nbformat": 4,
 "nbformat_minor": 5
}
