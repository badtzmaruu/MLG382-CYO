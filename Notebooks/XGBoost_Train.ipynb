{
 "cells": [
  {
   "cell_type": "code",
   "execution_count": 1,
   "id": "66e78bd8",
   "metadata": {},
   "outputs": [
    {
     "name": "stdout",
     "output_type": "stream",
     "text": [
      "XGBoost Accuracy: 0.996\n",
      "Classification Report:\n",
      "\n",
      "Classification Report:\n",
      "               precision    recall  f1-score   support\n",
      "\n",
      "     No Rain       1.00      1.00      1.00       437\n",
      "        Rain       0.97      1.00      0.98        63\n",
      "\n",
      "    accuracy                           1.00       500\n",
      "   macro avg       0.98      1.00      0.99       500\n",
      "weighted avg       1.00      1.00      1.00       500\n",
      "\n"
     ]
    },
    {
     "data": {
      "image/png": "[encoded data removed]",
      "text/plain": [
       "<Figure size 800x600 with 2 Axes>"
      ]
     },
     "metadata": {},
     "output_type": "display_data"
    },
    {
     "name": "stdout",
     "output_type": "stream",
     "text": [
      "Predicted Grade: no rain ,for given weather input\n"
     ]
    },
    {
     "name": "stderr",
     "output_type": "stream",
     "text": [
      "C:\\Users\\oosun\\AppData\\Local\\Temp\\ipykernel_17616\\3806857605.py:80: FutureWarning: errors='ignore' is deprecated and will raise in a future version. Use to_numeric without passing `errors` and catch exceptions explicitly instead\n",
      "  df_input = df_input.apply(pd.to_numeric, errors='ignore')\n"
     ]
    }
   ],
   "source": [
    "import pandas as pd\n",
    "import matplotlib.pyplot as plt  \n",
    "import seaborn as sns\n",
    "from xgboost import XGBClassifier\n",
    "from sklearn.metrics import classification_report, accuracy_score, confusion_matrix\n",
    "from sklearn.pipeline import Pipeline\n",
    "from sklearn.model_selection import GridSearchCV\n",
    "import seaborn as sns\n",
    "import matplotlib.pyplot as plt\n",
    "import pickle\n",
    "\n",
    "#Step 1: Import CSVs\n",
    "df_train = pd.read_csv('../Data/train_data.csv', delimiter=\",\")\n",
    "df_test = pd.read_csv('../Data/test_data.csv', delimiter=\",\")\n",
    "\n",
    "#Step 2: Separate features and target\n",
    "X_train = df_train.drop(columns=[\"Rain\"])\n",
    "y_train = df_train['Rain']\n",
    "\n",
    "X_test = df_test.drop(columns=[\"Rain\"])\n",
    "y_test = df_test['Rain']\n",
    "\n",
    "#Step 3: Build a pipeline and train XGBoost Model\n",
    "pipeline = Pipeline(steps=[\n",
    "    ('clf', XGBClassifier(eval_metric='mlogloss', random_state=47))\n",
    "])\n",
    "\n",
    "#Step 4: Define Param grid for tuning the model\n",
    "param_grid = {\n",
    "    'clf__max_depth': [3, 5, 7],\n",
    "    'clf__learning_rate': [0.01, 0.1],\n",
    "    'clf__n_estimators': [100, 200]\n",
    "}\n",
    "\n",
    "#Step 5: Training the XGBoost model using GridSearchCV\n",
    "grid = GridSearchCV(pipeline, param_grid, cv=3, scoring='accuracy', n_jobs=-1)\n",
    "\n",
    "grid.fit(X_train, y_train)\n",
    "\n",
    "predictions = grid.predict(X_test)\n",
    "\n",
    "best_model = grid.best_estimator_ \n",
    "\n",
    "#Step 6: Save the model as pkl file in artifacts\n",
    "with open(\"../Artifacts/xgboost_model.pkl\", \"wb\") as file:\n",
    "   pickle.dump(best_model, file)\n",
    "\n",
    "#Step 7:Make predictions\n",
    "predictions = best_model.predict(X_test)\n",
    "\n",
    "#Step 8: Evaluation\n",
    "accuracy = accuracy_score(y_test, predictions)\n",
    "print(\"XGBoost Accuracy:\", accuracy)\n",
    "\n",
    "print(\"Classification Report:\")\n",
    "print(\"\\nClassification Report:\\n\", classification_report(y_test, predictions, target_names=[\"No Rain\", \"Rain\"], zero_division=0))\n",
    "\n",
    "#Confusion Matrix\n",
    "cm = confusion_matrix(y_test, predictions)\n",
    "labels = sorted(y_test.unique()) \n",
    "plt.figure(figsize=(8,6))\n",
    "sns.heatmap(cm, annot=True, fmt='d', cmap='Blues', xticklabels=labels, yticklabels=labels)\n",
    "plt.xlabel('Predicted')\n",
    "plt.ylabel('Actual')\n",
    "plt.title('Confusion Matrix')\n",
    "plt.tight_layout()\n",
    "plt.show()\n",
    "\n",
    "#Prediction function\n",
    "def predict_weather(input_string):\n",
    "    columns = [\"Temperature\", \"Humidity\", \"Wind_Speed\", \"Cloud_Cover\", \"Pressure\"]\n",
    "\n",
    "    # Convert input string into a list\n",
    "    input_data = input_string.split(\",\")\n",
    "\n",
    "    # Create DataFrame from input\n",
    "    df_input = pd.DataFrame([input_data], columns=columns)\n",
    "\n",
    "    # Convert numerical values from strings to floats\n",
    "    df_input = df_input.apply(pd.to_numeric, errors='ignore')  \n",
    "\n",
    "    # Predict using the loaded model\n",
    "    prediction = best_model.predict(df_input)\n",
    "    \n",
    "    # Rain map\n",
    "    rain_map = {0: \"no rain\", 1: \"rain\"}\n",
    "    \n",
    "    predicted_rain = rain_map[prediction[0]]\n",
    "\n",
    "    return predicted_rain\n",
    "\n",
    "#Example testing input from the csv file\n",
    "weather_input = \"20.5,65,13.2,60,1012\"\n",
    "\n",
    "#Print predicted grade\n",
    "print(f\"Predicted Grade: {predict_weather(weather_input)} ,for given weather input\")\n",
    "\n",
    "#Step 9: Save predictions to CSV\n",
    "comp_df = X_test.copy()\n",
    "comp_df[\"Actual_Rain\"] = y_test.values\n",
    "comp_df[\"Predicted_Rain\"] = predictions\n",
    "comp_df.to_csv(\"../Artifacts/xgboost_prediction.csv\", index=False)"
   ]
  }
 ],
 "metadata": {
  "kernelspec": {
   "display_name": "base",
   "language": "python",
   "name": "python3"
  },
  "language_info": {
   "codemirror_mode": {
    "name": "ipython",
    "version": 3
   },
   "file_extension": ".py",
   "mimetype": "text/x-python",
   "name": "python",
   "nbconvert_exporter": "python",
   "pygments_lexer": "ipython3",
   "version": "3.12.7"
  }
 },
 "nbformat": 4,
 "nbformat_minor": 5
}
